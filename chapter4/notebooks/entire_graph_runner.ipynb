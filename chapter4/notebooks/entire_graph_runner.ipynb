{
 "cells": [
  {
   "cell_type": "code",
   "execution_count": null,
   "metadata": {},
   "outputs": [],
   "source": [
    "from src.agent import HelpDeskAgent\n",
    "from src.configs import Settings\n",
    "from src.tools.search_xyz_manual import search_xyz_manual\n",
    "from src.tools.search_xyz_qa import (\n",
    "    search_xyz_qa,\n",
    ")"
   ]
  },
  {
   "cell_type": "code",
   "execution_count": 2,
   "metadata": {},
   "outputs": [],
   "source": [
    "settings = Settings()"
   ]
  },
  {
   "cell_type": "code",
   "execution_count": 3,
   "metadata": {},
   "outputs": [],
   "source": [
    "agent = HelpDeskAgent(\n",
    "    settings=settings,\n",
    "    tools=[search_xyz_manual, search_xyz_qa],\n",
    ")"
   ]
  },
  {
   "cell_type": "code",
   "execution_count": 4,
   "metadata": {},
   "outputs": [],
   "source": [
    "question = \"\"\"\n",
    "お世話になっております。\n",
    "\n",
    "現在、XYZシステムの利用を検討しており、以下の2点についてご教示いただければと存じます。\n",
    "\n",
    "1. パスワードに利用可能な文字の制限について\n",
    "当該システムにてパスワードを設定する際、使用可能な文字の範囲（例：英数字、記号、文字数制限など）について詳しい情報をいただけますでしょうか。安全かつシステムでの認証エラーを防ぐため、具体的な仕様を確認したいと考えております。\n",
    "\n",
    "2. 最新リリースの取得方法について\n",
    "最新のアップデート情報をどのように確認・取得できるかについてもお教えいただけますと幸いです。\n",
    "\n",
    "お忙しいところ恐縮ですが、ご対応のほどよろしくお願い申し上げます。\n",
    "\n",
    "\"\"\"\n",
    "\n",
    "question = \"\"\"\n",
    "お世話になっております。\n",
    "\n",
    "現在、XYZシステムを利用しており、以下の点についてご教示いただければと存じます。\n",
    "\n",
    "1. 特定のプロジェクトに対してのみ通知を制限する方法について\n",
    "特定のプロジェクトに対してのみ通知を制限する方法についてお教えいただけますと幸いです。\n",
    "\n",
    "2. パスワードに利用可能な文字の制限について\n",
    "当該システムにてパスワードを設定する際、使用可能な文字の範囲（例：英数字、記号、文字数制限など）について詳しい情報をいただけますでしょうか。安全かつシステムでの認証エラーを防ぐため、具体的な仕様を確認したいと考えております。\n",
    "\n",
    "お忙しいところ恐縮ですが、ご対応のほどよろしくお願い申し上げます。\n",
    "\"\"\""
   ]
  },
  {
   "cell_type": "markdown",
   "metadata": {},
   "source": [
    "## ヘルプデスクエージェント全体を実行します"
   ]
  },
  {
   "cell_type": "code",
   "execution_count": null,
   "metadata": {},
   "outputs": [],
   "source": [
    "result = agent.run_agent(question)"
   ]
  },
  {
   "cell_type": "code",
   "execution_count": null,
   "metadata": {},
   "outputs": [],
   "source": [
    "# 回答\n",
    "print(result.answer)"
   ]
  }
 ],
 "metadata": {
  "kernelspec": {
   "display_name": "chapter4",
   "language": "python",
   "name": "python3"
  },
  "language_info": {
   "codemirror_mode": {
    "name": "ipython",
    "version": 3
   },
   "file_extension": ".py",
   "mimetype": "text/x-python",
   "name": "python",
   "nbconvert_exporter": "python",
   "pygments_lexer": "ipython3",
   "version": "3.12.9"
  }
 },
 "nbformat": 4,
 "nbformat_minor": 2
}
